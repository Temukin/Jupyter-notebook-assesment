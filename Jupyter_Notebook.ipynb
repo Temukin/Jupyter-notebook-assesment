{
 "cells": [
  {
   "cell_type": "markdown",
   "metadata": {},
   "source": [
    "<center>\n",
    "    <img src=\"https://s3-api.us-geo.objectstorage.softlayer.net/cf-courses-data/CognitiveClass/Logos/organization_logo/organization_logo.png\" width=\"300\" alt=\"cognitiveclass.ai logo\"  />\n",
    "</center>\n"
   ]
  },
  {
   "cell_type": "markdown",
   "metadata": {
    "tags": []
   },
   "source": [
    "#### Add your code below following the instructions given in the course\n"
   ]
  },
  {
   "cell_type": "markdown",
   "metadata": {},
   "source": [
    "# My Jupyter Notebook on IBM Watson Studio"
   ]
  },
  {
   "cell_type": "markdown",
   "metadata": {},
   "source": [
    "**Marcelo Reyes**\n",
    "\n",
    "Automatization and robotics engineer"
   ]
  },
  {
   "cell_type": "markdown",
   "metadata": {},
   "source": [
    "*i'm intersted in Data Science because it greatly expands my capacity to use my tools to automate things efficiently*"
   ]
  },
  {
   "cell_type": "markdown",
   "metadata": {
    "tags": []
   },
   "source": [
    "### This code anounces and performs simple operations for testing purposes"
   ]
  },
  {
   "cell_type": "code",
   "execution_count": 1,
   "metadata": {
    "tags": []
   },
   "outputs": [
    {
     "name": "stdout",
     "output_type": "stream",
     "text": [
      "testing simple addition:1+3\n",
      "4\n",
      "testing simple substraction:5-2\n",
      "3\n",
      "testing simple multiplication:6*3\n",
      "18\n",
      "testing simple divition:12/4\n",
      "3.0\n"
     ]
    }
   ],
   "source": [
    "print(\"testing simple addition:1+3\")\n",
    "\n",
    "print(1+3)\n",
    "\n",
    "print(\"testing simple substraction:5-2\")\n",
    "print(5-2)\n",
    "print(\"testing simple multiplication:6*3\")\n",
    "print(6*3)\n",
    "print(\"testing simple divition:12/4\")\n",
    "print(12/4)"
   ]
  },
  {
   "cell_type": "markdown",
   "metadata": {
    "tags": []
   },
   "source": [
    "and we're ~~done~~\n",
    "---\n",
    "well almost, I'l link you to [google](www.google.com)\n",
    "---\n",
    "that's it have a nice day"
   ]
  }
 ],
 "metadata": {
  "kernelspec": {
   "display_name": "Python",
   "language": "python",
   "name": "conda-env-python-py"
  },
  "language_info": {
   "codemirror_mode": {
    "name": "ipython",
    "version": 3
   },
   "file_extension": ".py",
   "mimetype": "text/x-python",
   "name": "python",
   "nbconvert_exporter": "python",
   "pygments_lexer": "ipython3",
   "version": "3.7.12"
  }
 },
 "nbformat": 4,
 "nbformat_minor": 4
}
